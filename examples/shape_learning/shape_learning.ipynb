{
 "cells": [
  {
   "cell_type": "code",
   "execution_count": 1,
   "metadata": {},
   "outputs": [],
   "source": [
    "import os\n",
    "import sys\n",
    "sys.path.append(os.path.join(os.getcwd(), '../..'))"
   ]
  },
  {
   "cell_type": "code",
   "execution_count": 2,
   "metadata": {},
   "outputs": [],
   "source": [
    "import time\n",
    "import numpy as np\n",
    "import matplotlib.pyplot as plt\n",
    "%matplotlib inline\n",
    "from IPython import display\n",
    "from modAL.models import ActiveLearner\n",
    "from modAL.utilities import classifier_uncertainty\n",
    "from sklearn.ensemble import RandomForestClassifier"
   ]
  },
  {
   "cell_type": "code",
   "execution_count": 3,
   "metadata": {},
   "outputs": [
    {
     "data": {
      "text/plain": [
       "<matplotlib.image.AxesImage at 0x7f72a9af9b38>"
      ]
     },
     "execution_count": 3,
     "metadata": {},
     "output_type": "execute_result"
    },
    {
     "data": {
      "image/png": "[encoded data removed]",
      "text/plain": [
       "<matplotlib.figure.Figure at 0x7f72abb1f828>"
      ]
     },
     "metadata": {},
     "output_type": "display_data"
    }
   ],
   "source": [
    "im_width = 200\n",
    "im_height = 200\n",
    "data = np.zeros((im_height, im_width))\n",
    "data[50:199-50, 50:199-50] = 1\n",
    "plt.imshow(data)"
   ]
  },
  {
   "cell_type": "code",
   "execution_count": 4,
   "metadata": {},
   "outputs": [],
   "source": [
    "# create the data from the image\n",
    "X = np.transpose(\n",
    "    [np.tile(np.asarray(range(data.shape[0])), data.shape[1]),\n",
    "     np.repeat(np.asarray(range(data.shape[1])), data.shape[0])]\n",
    ")\n",
    "# map the intensity values against the grid\n",
    "y = np.asarray([data[P[0], P[1]] for P in X])\n",
    "\n",
    "# adding 10 points to the dataset\n",
    "initial_idx = np.random.choice(range(len(y)), size=10)\n",
    "X_train, y_train = X[initial_idx], y[initial_idx]\n",
    "# to make sure that the initial dataset contains at least two classes,\n",
    "# we repeat the above process until it is satisfied\n",
    "while len(np.unique(y_train)) == 1:\n",
    "    initial_idx = np.random.choice(range(len(y)), size=10)\n",
    "    X_train, y_train = X[initial_idx], y[initial_idx]"
   ]
  },
  {
   "cell_type": "code",
   "execution_count": null,
   "metadata": {},
   "outputs": [],
   "source": [
    "# create an ActiveLearner instance\n",
    "learner = ActiveLearner(\n",
    "    predictor=RandomForestClassifier(), utility_function=classifier_uncertainty,\n",
    "    training_data=X_train, training_labels=y_train\n",
    ")"
   ]
  },
  {
   "cell_type": "code",
   "execution_count": 24,
   "metadata": {},
   "outputs": [
    {
     "data": {
      "image/png": "[encoded data removed]",
      "text/plain": [
       "<matplotlib.figure.Figure at 0x7f72a694aa58>"
      ]
     },
     "metadata": {},
     "output_type": "display_data"
    }
   ],
   "source": [
    "for round_idx in range(50):\n",
    "    query_idx, query_inst = learner.query(X)\n",
    "    learner.add_and_retrain(X[query_idx].reshape(1, -1), y[query_idx].reshape(-1, ))\n",
    "    try:\n",
    "        plt.subplot(1, 2, 1)\n",
    "        plt.imshow(learner.predict(X).reshape(im_height, im_width))\n",
    "        plt.title('Prediction after query no. ' + str(round_idx+1))\n",
    "        plt.subplot(1, 2, 2)\n",
    "        uncertainty = 1 - np.max(learner.predict_proba(X), axis=1)\n",
    "        plt.imshow(uncertainty.reshape(im_height, im_width))\n",
    "        plt.title('Uncertainty after query no. ' + str(round_idx+1))\n",
    "        display.display(plt.gcf())\n",
    "        display.clear_output(wait=True)\n",
    "        time.sleep(0.1)\n",
    "    except KeyboardInterrupt:\n",
    "        break"
   ]
  },
  {
   "cell_type": "code",
   "execution_count": 26,
   "metadata": {},
   "outputs": [
    {
     "name": "stderr",
     "output_type": "stream",
     "text": [
      "/usr/local/lib/python3.6/dist-packages/matplotlib/cbook/deprecation.py:106: MatplotlibDeprecationWarning: Adding an axes using the same arguments as a previous axes currently reuses the earlier instance.  In a future version, a new instance will always be created and returned.  Meanwhile, this warning can be suppressed, and the future behavior ensured, by passing a unique label to each axes instance.\n",
      "  warnings.warn(message, mplDeprecation, stacklevel=1)\n"
     ]
    },
    {
     "data": {
      "image/png": "[encoded data removed]",
      "text/plain": [
       "<matplotlib.figure.Figure at 0x7f72a6c63ba8>"
      ]
     },
     "metadata": {},
     "output_type": "display_data"
    }
   ],
   "source": [
    "for round_idx in range(50):\n",
    "    query_idx, query_inst = learner.query(X)\n",
    "    learner.add_and_retrain(X[query_idx].reshape(1, -1), y[query_idx].reshape(-1, ))\n",
    "    try:\n",
    "        ax1 = plt.subplot(1, 2, 1)\n",
    "        ax1.imshow(learner.predict(X).reshape(im_height, im_width))\n",
    "        #ax1.title('Prediction after query no. ' + str(round_idx+1))\n",
    "        display.display(plt.gcf())\n",
    "        display.clear_output(wait=True)\n",
    "        time.sleep(0.1)\n",
    "    except KeyboardInterrupt:\n",
    "        break"
   ]
  },
  {
   "cell_type": "code",
   "execution_count": null,
   "metadata": {},
   "outputs": [],
   "source": []
  }
 ],
 "metadata": {
  "kernelspec": {
   "display_name": "Python 3",
   "language": "python",
   "name": "python3"
  },
  "language_info": {
   "codemirror_mode": {
    "name": "ipython",
    "version": 3
   },
   "file_extension": ".py",
   "mimetype": "text/x-python",
   "name": "python",
   "nbconvert_exporter": "python",
   "pygments_lexer": "ipython3",
   "version": "3.6.3"
  }
 },
 "nbformat": 4,
 "nbformat_minor": 1
}
