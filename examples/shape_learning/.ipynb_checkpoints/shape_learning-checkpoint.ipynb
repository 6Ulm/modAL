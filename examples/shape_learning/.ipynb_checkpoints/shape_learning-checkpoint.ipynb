{
 "cells": [
  {
   "cell_type": "code",
   "execution_count": 4,
   "metadata": {},
   "outputs": [],
   "source": [
    "import sys\n",
    "sys.path.append('../../../')"
   ]
  },
  {
   "cell_type": "code",
   "execution_count": 5,
   "metadata": {},
   "outputs": [],
   "source": [
    "import numpy as np\n",
    "from scipy import misc\n",
    "from sklearn.ensemble import RandomForestClassifier\n",
    "from modAL.active_learning.models import ActiveLearner\n",
    "from modAL.active_learning.utilities import classifier_uncertainty"
   ]
  },
  {
   "cell_type": "code",
   "execution_count": 6,
   "metadata": {},
   "outputs": [
    {
     "name": "stderr",
     "output_type": "stream",
     "text": [
      "/usr/local/lib/python3.6/dist-packages/ipykernel_launcher.py:6: DeprecationWarning: `imshow` is deprecated!\n",
      "`imshow` is deprecated in SciPy 1.0.0, and will be removed in 1.2.0.\n",
      "Use ``matplotlib.pyplot.imshow`` instead.\n",
      "  \n",
      "/usr/local/lib/python3.6/dist-packages/ipykernel_launcher.py:35: DeprecationWarning: `imshow` is deprecated!\n",
      "`imshow` is deprecated in SciPy 1.0.0, and will be removed in 1.2.0.\n",
      "Use ``matplotlib.pyplot.imshow`` instead.\n"
     ]
    }
   ],
   "source": [
    "# creating the image\n",
    "im_width = 200\n",
    "im_height = 200\n",
    "data = np.zeros((im_height, im_width))\n",
    "data[50:199-50, 50:199-50] = 1\n",
    "misc.imshow(data)\n",
    "\n",
    "# create the data from the image\n",
    "X = np.transpose(\n",
    "    [np.tile(np.asarray(range(data.shape[0])), data.shape[1]),\n",
    "\t np.repeat(np.asarray(range(data.shape[1])), data.shape[0])]\n",
    ")\n",
    "# map the intensity values against the grid\n",
    "y = np.asarray([data[P[0], P[1]] for P in X])\n",
    "\n",
    "# adding 10 points to the dataset\n",
    "initial_idx = np.random.choice(range(len(y)), size=10)\n",
    "X_train, y_train = X[initial_idx], y[initial_idx]\n",
    "# to make sure that the initial dataset contains at least two classes,\n",
    "# we repeat the above process until it is satisfied\n",
    "while len(np.unique(y_train)) == 1:\n",
    "\tinitial_idx = np.random.choice(range(len(y)), size=10)\n",
    "\tX_train, y_train = X[initial_idx], y[initial_idx]\n",
    "\n",
    "# create an ActiveLearner instance\n",
    "learner = ActiveLearner(\n",
    "\tpredictor=RandomForestClassifier(), utility_function=classifier_uncertainty,\n",
    "\ttraining_data=X_train, training_labels=y_train\n",
    ")\n",
    "\n",
    "for round_idx in range(20):\n",
    "\tquery_idx, query_inst = learner.query(X)\n",
    "\tlearner.add_and_retrain(X[query_idx].reshape(1, -1), y[query_idx].reshape(-1, ))\n",
    "\n",
    "misc.imshow(learner.predict(X).reshape(im_height, im_width))"
   ]
  },
  {
   "cell_type": "code",
   "execution_count": null,
   "metadata": {},
   "outputs": [],
   "source": []
  }
 ],
 "metadata": {
  "kernelspec": {
   "display_name": "Python 3",
   "language": "python",
   "name": "python3"
  },
  "language_info": {
   "codemirror_mode": {
    "name": "ipython",
    "version": 3
   },
   "file_extension": ".py",
   "mimetype": "text/x-python",
   "name": "python",
   "nbconvert_exporter": "python",
   "pygments_lexer": "ipython3",
   "version": "3.6.3"
  }
 },
 "nbformat": 4,
 "nbformat_minor": 1
}
